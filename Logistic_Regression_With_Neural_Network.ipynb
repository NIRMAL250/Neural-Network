{
  "nbformat": 4,
  "nbformat_minor": 0,
  "metadata": {
    "colab": {
      "name": "Logistic Regression With Neural Network.ipynb",
      "provenance": [],
      "collapsed_sections": [],
      "authorship_tag": "ABX9TyNbajJRxGKwb2aRplcmRLME",
      "include_colab_link": true
    },
    "kernelspec": {
      "name": "python3",
      "display_name": "Python 3"
    }
  },
  "cells": [
    {
      "cell_type": "markdown",
      "metadata": {
        "id": "view-in-github",
        "colab_type": "text"
      },
      "source": [
        "<a href=\"https://colab.research.google.com/github/NIRMAL250/Neural-Network/blob/master/Logistic_Regression_With_Neural_Network.ipynb\" target=\"_parent\"><img src=\"https://colab.research.google.com/assets/colab-badge.svg\" alt=\"Open In Colab\"/></a>"
      ]
    },
    {
      "cell_type": "code",
      "metadata": {
        "id": "98DRBvDut7O3",
        "colab_type": "code",
        "colab": {}
      },
      "source": [
        "import numpy as np\n",
        "import pandas as pd"
      ],
      "execution_count": 1,
      "outputs": []
    },
    {
      "cell_type": "code",
      "metadata": {
        "id": "-aifNHEiuC0j",
        "colab_type": "code",
        "colab": {}
      },
      "source": [
        "def sigmoid(Z):\n",
        "  A = 1/(1 + np.exp(-Z))\n",
        "  return A"
      ],
      "execution_count": 2,
      "outputs": []
    },
    {
      "cell_type": "code",
      "metadata": {
        "id": "vFAfllacuXeP",
        "colab_type": "code",
        "colab": {}
      },
      "source": [
        "def initialize_with_zeros(X):\n",
        "  W = np.zeros((X.shape, 1))\n",
        "  b = 0\n",
        "  return W, b"
      ],
      "execution_count": 3,
      "outputs": []
    },
    {
      "cell_type": "code",
      "metadata": {
        "id": "P8fgnBPMvULT",
        "colab_type": "code",
        "colab": {}
      },
      "source": [
        "def forward_prop(X, W, b, Y, m):\n",
        "  Z = np.dot(X, W.T) + b\n",
        "  A = sigmoid(Z)\n",
        "  cost = (-1/m)*np.sum(Y*np.log(A) + (1 - Y)*np.log(1 - A))\n",
        "  return A, cost"
      ],
      "execution_count": 5,
      "outputs": []
    },
    {
      "cell_type": "code",
      "metadata": {
        "id": "OEcgdLlAv8t0",
        "colab_type": "code",
        "colab": {}
      },
      "source": [
        "def back_prop(Y, A, X):\n",
        "  dW = np.dot(A - Y, X.T)\n",
        "  db = A - Y\n",
        "  return dZ, db"
      ],
      "execution_count": 9,
      "outputs": []
    },
    {
      "cell_type": "code",
      "metadata": {
        "id": "qfhb7sEHyGOi",
        "colab_type": "code",
        "colab": {}
      },
      "source": [
        "def model(X, Y, epochs = 500, learning_rate = 0.05, print_cost = False):\n",
        "  m = X.shape[1]\n",
        "  W, b = initialize_with_zeros(X)\n",
        "  for i in range(epochs):\n",
        "    A, cost = forward_prop(X, W, b, Y, m)\n",
        "    dW, db = back_prop(Y, A, X)\n",
        "    W = W - dW\n",
        "    b = b - db\n",
        "    if print_cost:\n",
        "      print(\"Cost: \", cost)\n",
        "  return W, b"
      ],
      "execution_count": 16,
      "outputs": []
    },
    {
      "cell_type": "code",
      "metadata": {
        "id": "6VHQQUXP023E",
        "colab_type": "code",
        "colab": {}
      },
      "source": [
        "def predict(X, W, b):\n",
        "  Z = np.dot(X, W.T) + b\n",
        "  A = sigmoid(Z)\n",
        "  if A > 0.5:\n",
        "    print(\"Prediction: \",1)\n",
        "  else:\n",
        "    print(\"Prediction: \", 0)"
      ],
      "execution_count": 17,
      "outputs": []
    },
    {
      "cell_type": "code",
      "metadata": {
        "id": "vvaaB-rI2Ctm",
        "colab_type": "code",
        "colab": {}
      },
      "source": [
        ""
      ],
      "execution_count": null,
      "outputs": []
    }
  ]
}